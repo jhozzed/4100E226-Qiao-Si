{
  "nbformat": 4,
  "nbformat_minor": 0,
  "metadata": {
    "colab": {
      "name": "4100E226python20211011.ipynb",
      "provenance": [],
      "collapsed_sections": [],
      "authorship_tag": "ABX9TyPk7DUBeeYJUH6NrA/EWecd",
      "include_colab_link": true
    },
    "kernelspec": {
      "name": "python3",
      "display_name": "Python 3"
    },
    "language_info": {
      "name": "python"
    }
  },
  "cells": [
    {
      "cell_type": "markdown",
      "metadata": {
        "id": "view-in-github",
        "colab_type": "text"
      },
      "source": [
        "<a href=\"https://colab.research.google.com/github/jhozzed/4100E226-Qiao-Si/blob/Introduction-to-Information-Technology/4100E226python20211011.ipynb\" target=\"_parent\"><img src=\"https://colab.research.google.com/assets/colab-badge.svg\" alt=\"Open In Colab\"/></a>"
      ]
    },
    {
      "cell_type": "markdown",
      "metadata": {
        "id": "fXEfRAVP9jkP"
      },
      "source": [
        "JHOZZED LHEM OSORIO\n",
        "4100E226"
      ]
    },
    {
      "cell_type": "code",
      "metadata": {
        "colab": {
          "base_uri": "https://localhost:8080/"
        },
        "id": "C3Sri0Wf2plE",
        "outputId": "e50a8809-70b8-4bdc-c40a-d1fa4bd55a43"
      },
      "source": [
        "a = 17/3\n",
        "a"
      ],
      "execution_count": null,
      "outputs": [
        {
          "output_type": "execute_result",
          "data": {
            "text/plain": [
              "5.666666666666667"
            ]
          },
          "metadata": {},
          "execution_count": 1
        }
      ]
    },
    {
      "cell_type": "code",
      "metadata": {
        "colab": {
          "base_uri": "https://localhost:8080/"
        },
        "id": "xqY3OaYA26dF",
        "outputId": "32904c89-9e52-4d8f-9383-c919fad5a80c"
      },
      "source": [
        "b = 17// 3\n",
        "b"
      ],
      "execution_count": null,
      "outputs": [
        {
          "output_type": "execute_result",
          "data": {
            "text/plain": [
              "5"
            ]
          },
          "metadata": {},
          "execution_count": 2
        }
      ]
    },
    {
      "cell_type": "code",
      "metadata": {
        "colab": {
          "base_uri": "https://localhost:8080/"
        },
        "id": "c7B1ihss3LlU",
        "outputId": "b90b4a3b-0b9e-431c-8b17-8e1ea29702bd"
      },
      "source": [
        "c = 17%3\n",
        "c"
      ],
      "execution_count": null,
      "outputs": [
        {
          "output_type": "execute_result",
          "data": {
            "text/plain": [
              "2"
            ]
          },
          "metadata": {},
          "execution_count": 3
        }
      ]
    },
    {
      "cell_type": "code",
      "metadata": {
        "colab": {
          "base_uri": "https://localhost:8080/"
        },
        "id": "GFfNU6hp6DpO",
        "outputId": "836e3198-b0c9-42dd-ac18-f85fa76bda33"
      },
      "source": [
        "x = 5\n",
        "print(x > 3 and x < 10)\n"
      ],
      "execution_count": null,
      "outputs": [
        {
          "output_type": "stream",
          "name": "stdout",
          "text": [
            "True\n"
          ]
        }
      ]
    },
    {
      "cell_type": "markdown",
      "metadata": {
        "id": "WvqxFC4u9C0k"
      },
      "source": [
        "x = 5 ==> [x > 3] true\n",
        "\n",
        "[x < 10] TRUE\n",
        "\n",
        "[x > 3] and [x < 10] ==> True and true ==> true"
      ]
    },
    {
      "cell_type": "code",
      "metadata": {
        "colab": {
          "base_uri": "https://localhost:8080/"
        },
        "id": "MYHNPpiK9QXr",
        "outputId": "114a746c-790a-4e12-9101-38f28e8c0452"
      },
      "source": [
        "x = 5\n",
        "print(x > 3 and x > 10)"
      ],
      "execution_count": null,
      "outputs": [
        {
          "output_type": "stream",
          "name": "stdout",
          "text": [
            "False\n"
          ]
        }
      ]
    },
    {
      "cell_type": "markdown",
      "metadata": {
        "id": "tmEI51Qh9Uhf"
      },
      "source": [
        "x = 5 ==> [x > 3] Ture | [x>10] False\n",
        "\n",
        "[True] and [False] ==> False\n",
        "\n",
        "[True] and [True] ==> True\n",
        "\n",
        "[True] and [False] ==> False\n",
        "\n",
        "[False] and [True] ==> False\n",
        "\n",
        "[False] and [False] ==> False"
      ]
    },
    {
      "cell_type": "code",
      "metadata": {
        "colab": {
          "base_uri": "https://localhost:8080/"
        },
        "id": "LAk5Yl2A-1SR",
        "outputId": "75c00b7d-0f88-4cab-8c7e-24fd5fd5e03c"
      },
      "source": [
        "int(0b111)"
      ],
      "execution_count": null,
      "outputs": [
        {
          "output_type": "execute_result",
          "data": {
            "text/plain": [
              "7"
            ]
          },
          "metadata": {},
          "execution_count": 12
        }
      ]
    }
  ]
}