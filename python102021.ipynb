{
  "nbformat": 4,
  "nbformat_minor": 0,
  "metadata": {
    "colab": {
      "name": "python102021.ipynb",
      "provenance": [],
      "include_colab_link": true
    },
    "kernelspec": {
      "name": "python3",
      "display_name": "Python 3"
    },
    "language_info": {
      "name": "python"
    }
  },
  "cells": [
    {
      "cell_type": "markdown",
      "metadata": {
        "id": "view-in-github",
        "colab_type": "text"
      },
      "source": [
        "<a href=\"https://colab.research.google.com/github/jhozzed/4100E226-Qiao-Si/blob/Introduction-to-Information-Technology/python102021.ipynb\" target=\"_parent\"><img src=\"https://colab.research.google.com/assets/colab-badge.svg\" alt=\"Open In Colab\"/></a>"
      ]
    },
    {
      "cell_type": "markdown",
      "metadata": {
        "id": "jEZzfvJ1gNq3"
      },
      "source": [
        "# **Summation**"
      ]
    },
    {
      "cell_type": "code",
      "metadata": {
        "colab": {
          "base_uri": "https://localhost:8080/"
        },
        "id": "G3z92OoGMs3m",
        "outputId": "cd70e99d-d3c5-4009-bac8-a029639e3da2"
      },
      "source": [
        "def sum(a1, a2, a3):\n",
        "    result = 0\n",
        "    for a in range(a1, a2, a3):\n",
        "        result += a\n",
        "    return result\n",
        "\n",
        "def main():\n",
        "    print(\"Sum1\", sum(17, 27, 2)) \n",
        "    print(\"Sum2\", sum(70, 100, 3))\n",
        "    print(\"Sum3\", sum(6, 69, 5))\n",
        "\n",
        "main() # Call the main function"
      ],
      "execution_count": null,
      "outputs": [
        {
          "output_type": "stream",
          "name": "stdout",
          "text": [
            "Sum1 105\n",
            "Sum2 835\n",
            "Sum3 468\n"
          ]
        }
      ]
    },
    {
      "cell_type": "code",
      "metadata": {
        "colab": {
          "base_uri": "https://localhost:8080/"
        },
        "id": "1F5-VeHEW0C6",
        "outputId": "2ae7dafe-3519-4994-d4db-b7214710aa5a"
      },
      "source": [
        "17+19+21+23+25"
      ],
      "execution_count": null,
      "outputs": [
        {
          "output_type": "execute_result",
          "data": {
            "text/plain": [
              "105"
            ]
          },
          "metadata": {},
          "execution_count": 20
        }
      ]
    },
    {
      "cell_type": "code",
      "metadata": {
        "colab": {
          "base_uri": "https://localhost:8080/"
        },
        "id": "HnEu-EC3ZFwu",
        "outputId": "7846db70-d0a3-4106-ed14-3537540bd48c"
      },
      "source": [
        "70+73+76+79+82+85+88+91+94+97"
      ],
      "execution_count": null,
      "outputs": [
        {
          "output_type": "execute_result",
          "data": {
            "text/plain": [
              "835"
            ]
          },
          "metadata": {},
          "execution_count": 26
        }
      ]
    },
    {
      "cell_type": "code",
      "metadata": {
        "colab": {
          "base_uri": "https://localhost:8080/"
        },
        "id": "2OEPQYh2ZRrn",
        "outputId": "9d074eeb-b767-4601-d7b1-5f2b06ec4d76"
      },
      "source": [
        "6+11+16+21+26+31+36+41+46+51+56+61+66"
      ],
      "execution_count": null,
      "outputs": [
        {
          "output_type": "execute_result",
          "data": {
            "text/plain": [
              "468"
            ]
          },
          "metadata": {},
          "execution_count": 27
        }
      ]
    },
    {
      "cell_type": "markdown",
      "metadata": {
        "id": "f_WPP_4NgRvb"
      },
      "source": [
        "# **Swap**"
      ]
    },
    {
      "cell_type": "code",
      "metadata": {
        "id": "tZat1gyuRSV4",
        "colab": {
          "base_uri": "https://localhost:8080/"
        },
        "outputId": "3e38b105-9522-4b01-c021-2ca778bc261a"
      },
      "source": [
        "def swap(c,d):\n",
        "  c,d = d,c\n",
        "  return (c,d)\n",
        "\n",
        "if __name__ == '__main__':\n",
        "    c = 17\n",
        "    d = 13\n",
        "    print('c = %d,d = %d' % (c,d))\n",
        "    c,d = swap(c,d)\n",
        "    print('c = %d,d = %d' % (c,d))"
      ],
      "execution_count": null,
      "outputs": [
        {
          "output_type": "stream",
          "name": "stdout",
          "text": [
            "c = 17,d = 13\n",
            "c = 13,d = 17\n"
          ]
        }
      ]
    },
    {
      "cell_type": "markdown",
      "metadata": {
        "id": "e3nInesxf-Ih"
      },
      "source": [
        "# **From Small to Large**"
      ]
    },
    {
      "cell_type": "code",
      "metadata": {
        "colab": {
          "base_uri": "https://localhost:8080/"
        },
        "id": "iPC1vy35VAFA",
        "outputId": "c36cf15b-521f-44f6-e484-9856d05e4e5d"
      },
      "source": [
        "def sort(numberA, numberB, numberC):\n",
        "    if numberA < numberB < numberC:\n",
        "        return numberA, numberB, numberC\n",
        "    else:\n",
        "        return numberC, numberB, numberA\n",
        "\n",
        "numA, numB, numC = sort(7, 13, 17)\n",
        "\n",
        "print(\"num1 is\", numA)\n",
        "print(\"num2 is\", numB)\n",
        "print(\"num3 is\", numC)"
      ],
      "execution_count": null,
      "outputs": [
        {
          "output_type": "stream",
          "name": "stdout",
          "text": [
            "num1 is 7\n",
            "num2 is 13\n",
            "num3 is 17\n"
          ]
        }
      ]
    },
    {
      "cell_type": "markdown",
      "metadata": {
        "id": "k2dfraP-gCl_"
      },
      "source": [
        "# **From Large to Small**"
      ]
    },
    {
      "cell_type": "code",
      "metadata": {
        "colab": {
          "base_uri": "https://localhost:8080/"
        },
        "id": "G7oTlFP6Ylju",
        "outputId": "705d073e-2b15-4a28-bd17-bc4120123110"
      },
      "source": [
        "def sort(number1, number2, number3):\n",
        "    if (number1 < number2) and (number1 < number3):\n",
        "      if number2 < number3:\n",
        "        return number1, number2,number3\n",
        "      else:\n",
        "        return number1, number3,number2\n",
        "    if (number2 < number1) and (number2 < number3):\n",
        "      if number1 < number3:\n",
        "        return number2, number1,number3\n",
        "      else:\n",
        "        return number2, number3,number1    \n",
        "    if (number3 < number1) and (number3 < number2):\n",
        "      if number1 < number2:\n",
        "        return number3, number1,number2\n",
        "      else:\n",
        "        return number3, number2,number1 \n",
        "\n",
        "num1, num2, num3  = sort(17,13,9)\n",
        "\n",
        "print(\"num1 is\", num1)\n",
        "print(\"num2 is\", num2)\n",
        "print(\"num2 is\", num3)"
      ],
      "execution_count": null,
      "outputs": [
        {
          "output_type": "stream",
          "name": "stdout",
          "text": [
            "num1 is 9\n",
            "num2 is 13\n",
            "num2 is 17\n"
          ]
        }
      ]
    },
    {
      "cell_type": "code",
      "metadata": {
        "id": "29dDirR6fGtD"
      },
      "source": [
        ""
      ],
      "execution_count": null,
      "outputs": []
    },
    {
      "cell_type": "markdown",
      "metadata": {
        "id": "ibTLQYwbgk54"
      },
      "source": [
        "# **Area**"
      ]
    },
    {
      "cell_type": "code",
      "metadata": {
        "id": "fmPD8UmxgomP"
      },
      "source": [
        "def printArea(width = 13.9, height = 28.78):\n",
        "    area = width * height\n",
        "    print(\"width:\", width, \"\\theight:\", height, \"\\tarea:\", area)"
      ],
      "execution_count": null,
      "outputs": []
    },
    {
      "cell_type": "code",
      "metadata": {
        "colab": {
          "base_uri": "https://localhost:8080/"
        },
        "id": "bDjd0epxg7Gb",
        "outputId": "d41c42d1-a2c2-4e04-d7be-7e0ac0c34603"
      },
      "source": [
        "13.9*28.78"
      ],
      "execution_count": null,
      "outputs": [
        {
          "output_type": "execute_result",
          "data": {
            "text/plain": [
              "400.04200000000003"
            ]
          },
          "metadata": {},
          "execution_count": 41
        }
      ]
    },
    {
      "cell_type": "markdown",
      "metadata": {
        "id": "rxceyQI7hLyM"
      },
      "source": [
        "# **use default arguments**"
      ]
    },
    {
      "cell_type": "code",
      "metadata": {
        "colab": {
          "base_uri": "https://localhost:8080/"
        },
        "id": "t_ZC9zOmhRBh",
        "outputId": "ebac6764-5e34-4c4b-cc4f-438fe91183e8"
      },
      "source": [
        "printArea()"
      ],
      "execution_count": null,
      "outputs": [
        {
          "output_type": "stream",
          "name": "stdout",
          "text": [
            "width: 13.9 \theight: 28.78 \tarea: 400.04200000000003\n"
          ]
        }
      ]
    },
    {
      "cell_type": "markdown",
      "metadata": {
        "id": "b58nseaKhfd5"
      },
      "source": [
        "# **use Keyboard arguments**"
      ]
    },
    {
      "cell_type": "code",
      "metadata": {
        "colab": {
          "base_uri": "https://localhost:8080/"
        },
        "id": "uUGn8ZQ6hirV",
        "outputId": "15d4e8e1-896e-461b-9e9c-1f023e2ad1ec"
      },
      "source": [
        "printArea(width = 50, height = 20)"
      ],
      "execution_count": null,
      "outputs": [
        {
          "output_type": "stream",
          "name": "stdout",
          "text": [
            "width: 50 \theight: 20 \tarea: 1000\n"
          ]
        }
      ]
    },
    {
      "cell_type": "code",
      "metadata": {
        "colab": {
          "base_uri": "https://localhost:8080/"
        },
        "id": "Xsph4sFHhxu8",
        "outputId": "7e1e4e3d-5948-45b3-98b5-32245d4c19da"
      },
      "source": [
        "printArea(height = 20, width = 50)"
      ],
      "execution_count": null,
      "outputs": [
        {
          "output_type": "stream",
          "name": "stdout",
          "text": [
            "width: 50 \theight: 20 \tarea: 1000\n"
          ]
        }
      ]
    },
    {
      "cell_type": "markdown",
      "metadata": {
        "id": "eC16gH70h4mv"
      },
      "source": [
        "# **use Positional arguments**"
      ]
    },
    {
      "cell_type": "code",
      "metadata": {
        "colab": {
          "base_uri": "https://localhost:8080/"
        },
        "id": "j820HaU_h-4K",
        "outputId": "8babb6ea-b406-4991-917c-3b58efef55f6"
      },
      "source": [
        "printArea(15,25)"
      ],
      "execution_count": null,
      "outputs": [
        {
          "output_type": "stream",
          "name": "stdout",
          "text": [
            "width: 15 \theight: 25 \tarea: 375\n"
          ]
        }
      ]
    },
    {
      "cell_type": "code",
      "metadata": {
        "colab": {
          "base_uri": "https://localhost:8080/"
        },
        "id": "1ADPrPeiiDxC",
        "outputId": "bcc76b14-31bb-4dbe-ca0d-6517246e1e34"
      },
      "source": [
        "printArea(25,15)"
      ],
      "execution_count": null,
      "outputs": [
        {
          "output_type": "stream",
          "name": "stdout",
          "text": [
            "width: 25 \theight: 15 \tarea: 375\n"
          ]
        }
      ]
    },
    {
      "cell_type": "markdown",
      "metadata": {
        "id": "S_svbK11jnha"
      },
      "source": [
        "# **Lambda**"
      ]
    },
    {
      "cell_type": "code",
      "metadata": {
        "colab": {
          "base_uri": "https://localhost:8080/"
        },
        "id": "vZm4Wc0XjtKc",
        "outputId": "c02be5cf-d0ad-40b8-9596-5138d9866367"
      },
      "source": [
        "f4 = lambda a, b, c: a+3*b+4*c\n",
        "print(f4(5,6,7))"
      ],
      "execution_count": null,
      "outputs": [
        {
          "output_type": "stream",
          "name": "stdout",
          "text": [
            "51\n"
          ]
        }
      ]
    },
    {
      "cell_type": "markdown",
      "metadata": {
        "id": "AvX2V2JJkJhe"
      },
      "source": [
        "# **Power of Lambda**"
      ]
    },
    {
      "cell_type": "code",
      "metadata": {
        "colab": {
          "base_uri": "https://localhost:8080/"
        },
        "id": "gSpuCe-4kNIF",
        "outputId": "f7a1049c-c272-4e0b-f9df-2b3e3fbf5148"
      },
      "source": [
        "def myfunc(a):\n",
        "    return a*a\n",
        "\n",
        "my_list = [2, 4, 6, -8, -10]\n",
        "\n",
        "print(list(map(lambda x:myfunc(x), my_list)))"
      ],
      "execution_count": null,
      "outputs": [
        {
          "output_type": "stream",
          "name": "stdout",
          "text": [
            "[4, 16, 36, 64, 100]\n"
          ]
        }
      ]
    }
  ]
}