{
  "nbformat": 4,
  "nbformat_minor": 0,
  "metadata": {
    "colab": {
      "name": "20211011.ipynb",
      "provenance": [],
      "collapsed_sections": [],
      "toc_visible": true,
      "authorship_tag": "ABX9TyNcpCopZtdM65T5jFWPtb5C",
      "include_colab_link": true
    },
    "kernelspec": {
      "name": "python3",
      "display_name": "Python 3"
    },
    "language_info": {
      "name": "python"
    }
  },
  "cells": [
    {
      "cell_type": "markdown",
      "metadata": {
        "id": "view-in-github",
        "colab_type": "text"
      },
      "source": [
        "<a href=\"https://colab.research.google.com/github/jhozzed/4100E226-Qiao-Si/blob/main/20211011.ipynb\" target=\"_parent\"><img src=\"https://colab.research.google.com/assets/colab-badge.svg\" alt=\"Open In Colab\"/></a>"
      ]
    },
    {
      "cell_type": "markdown",
      "metadata": {
        "id": "VjlvYxA0CQab"
      },
      "source": [
        "# **Python Data Types**\n",
        "Jhozzed Lhem Osorio\n",
        "4100E226\n",
        "10-11-2021"
      ]
    },
    {
      "cell_type": "markdown",
      "metadata": {
        "id": "mE2lVYnSCqjy"
      },
      "source": [
        "# **Arithmetic** **Operators**"
      ]
    },
    {
      "cell_type": "code",
      "metadata": {
        "colab": {
          "base_uri": "https://localhost:8080/"
        },
        "id": "rCYd3wuMCm0a",
        "outputId": "92727ea9-4731-48bb-9af6-f993d318de6d"
      },
      "source": [
        "a = 23 / 2\n",
        "a"
      ],
      "execution_count": 3,
      "outputs": [
        {
          "output_type": "execute_result",
          "data": {
            "text/plain": [
              "11.5"
            ]
          },
          "metadata": {},
          "execution_count": 3
        }
      ]
    },
    {
      "cell_type": "code",
      "metadata": {
        "colab": {
          "base_uri": "https://localhost:8080/"
        },
        "id": "8rsHmlgDC5bR",
        "outputId": "6933b0c0-db3b-4c02-d44c-42100cd484bd"
      },
      "source": [
        "b = 23 // 2\n",
        "b"
      ],
      "execution_count": 5,
      "outputs": [
        {
          "output_type": "execute_result",
          "data": {
            "text/plain": [
              "11"
            ]
          },
          "metadata": {},
          "execution_count": 5
        }
      ]
    },
    {
      "cell_type": "code",
      "metadata": {
        "colab": {
          "base_uri": "https://localhost:8080/"
        },
        "id": "2qNxqnhYC9pr",
        "outputId": "0508fc03-9825-4251-ed8d-f6ce38ae7335"
      },
      "source": [
        "c = 33 % 4\n",
        "c"
      ],
      "execution_count": 7,
      "outputs": [
        {
          "output_type": "execute_result",
          "data": {
            "text/plain": [
              "1"
            ]
          },
          "metadata": {},
          "execution_count": 7
        }
      ]
    },
    {
      "cell_type": "code",
      "metadata": {
        "colab": {
          "base_uri": "https://localhost:8080/"
        },
        "id": "VMGRWBppDHKA",
        "outputId": "3a33a439-9cf4-4f29-f740-54cc65d9c0ff"
      },
      "source": [
        "d = 12**2\n",
        "d"
      ],
      "execution_count": 9,
      "outputs": [
        {
          "output_type": "execute_result",
          "data": {
            "text/plain": [
              "144"
            ]
          },
          "metadata": {},
          "execution_count": 9
        }
      ]
    },
    {
      "cell_type": "markdown",
      "metadata": {
        "id": "ahl6D3QCDLYX"
      },
      "source": [
        "# **Logical Operators**"
      ]
    },
    {
      "cell_type": "code",
      "metadata": {
        "colab": {
          "base_uri": "https://localhost:8080/"
        },
        "id": "ss_-U60HDRfa",
        "outputId": "e387c595-d742-4260-e077-195c3a18f51e"
      },
      "source": [
        "a = 10\n",
        "b = -10\n",
        "c = 0\n",
        "  \n",
        "if a > 0 or b > 0:\n",
        "    print(\"Either of the number is greater than 0\")\n",
        "else:\n",
        "    print(\"No number is greater than 0\")"
      ],
      "execution_count": 10,
      "outputs": [
        {
          "output_type": "stream",
          "name": "stdout",
          "text": [
            "Either of the number is greater than 0\n"
          ]
        }
      ]
    },
    {
      "cell_type": "markdown",
      "metadata": {
        "id": "x5-VTNzsBGOC"
      },
      "source": [
        "# **Bin Function**"
      ]
    },
    {
      "cell_type": "code",
      "metadata": {
        "colab": {
          "base_uri": "https://localhost:8080/",
          "height": 35
        },
        "id": "oNjxYSOtAcyo",
        "outputId": "43b3ff41-9d6e-47af-d742-e85a69313e44"
      },
      "source": [
        "bin(69)"
      ],
      "execution_count": 1,
      "outputs": [
        {
          "output_type": "execute_result",
          "data": {
            "application/vnd.google.colaboratory.intrinsic+json": {
              "type": "string"
            },
            "text/plain": [
              "'0b1000101'"
            ]
          },
          "metadata": {},
          "execution_count": 1
        }
      ]
    },
    {
      "cell_type": "code",
      "metadata": {
        "colab": {
          "base_uri": "https://localhost:8080/"
        },
        "id": "zch9EmPnBZWS",
        "outputId": "d4042f9c-766a-46e3-fd83-bc1364f28150"
      },
      "source": [
        "int(0b1000101)"
      ],
      "execution_count": 2,
      "outputs": [
        {
          "output_type": "execute_result",
          "data": {
            "text/plain": [
              "69"
            ]
          },
          "metadata": {},
          "execution_count": 2
        }
      ]
    },
    {
      "cell_type": "markdown",
      "metadata": {
        "id": "Wb3TKxhKENuU"
      },
      "source": [
        "# **String**"
      ]
    },
    {
      "cell_type": "code",
      "metadata": {
        "colab": {
          "base_uri": "https://localhost:8080/"
        },
        "id": "0ylj78fXEP7u",
        "outputId": "84fa685f-9bd8-4f86-9735-50ab890ecd27"
      },
      "source": [
        "b = \"bourgeoisie\"\n",
        "print(b[3:5])\n"
      ],
      "execution_count": 12,
      "outputs": [
        {
          "output_type": "stream",
          "name": "stdout",
          "text": [
            "rg\n"
          ]
        }
      ]
    },
    {
      "cell_type": "code",
      "metadata": {
        "colab": {
          "base_uri": "https://localhost:8080/"
        },
        "id": "34KwmMnKE7zm",
        "outputId": "1ae4b5d5-cc1f-4715-d163-9327a83ffc3f"
      },
      "source": [
        "b = \"bourgeoisie\"\n",
        "print(b[:8])\n"
      ],
      "execution_count": 13,
      "outputs": [
        {
          "output_type": "stream",
          "name": "stdout",
          "text": [
            "bourgeoi\n"
          ]
        }
      ]
    },
    {
      "cell_type": "code",
      "metadata": {
        "colab": {
          "base_uri": "https://localhost:8080/"
        },
        "id": "7V2Qn9QdFBc0",
        "outputId": "d1a04978-fcf7-4337-f8f2-f3d977b83e1f"
      },
      "source": [
        "b = \"bourgeoisie\"\n",
        "print(b[0:])\n"
      ],
      "execution_count": 14,
      "outputs": [
        {
          "output_type": "stream",
          "name": "stdout",
          "text": [
            "bourgeoisie\n"
          ]
        }
      ]
    },
    {
      "cell_type": "code",
      "metadata": {
        "colab": {
          "base_uri": "https://localhost:8080/"
        },
        "id": "8qxekuzLFKQG",
        "outputId": "c122865b-064f-4aa1-aefd-b1138506bd0e"
      },
      "source": [
        "b = \"bourgeoisie\"\n",
        "print(b[-3:-1]) "
      ],
      "execution_count": 15,
      "outputs": [
        {
          "output_type": "stream",
          "name": "stdout",
          "text": [
            "si\n"
          ]
        }
      ]
    },
    {
      "cell_type": "markdown",
      "metadata": {
        "id": "UQeG6m4LFzR5"
      },
      "source": [
        "# Python String **Method**"
      ]
    },
    {
      "cell_type": "code",
      "metadata": {
        "colab": {
          "base_uri": "https://localhost:8080/"
        },
        "id": "p8LF-QJrGxSv",
        "outputId": "42a0c834-dabd-4098-c9f0-850fbc5fdbf4"
      },
      "source": [
        "lol = \"noice\"\n",
        "x = lol.capitalize()\n",
        "print (x)"
      ],
      "execution_count": 16,
      "outputs": [
        {
          "output_type": "stream",
          "name": "stdout",
          "text": [
            "Noice\n"
          ]
        }
      ]
    },
    {
      "cell_type": "markdown",
      "metadata": {
        "id": "zsUnm_poHO_W"
      },
      "source": [
        "# **Join Method**"
      ]
    },
    {
      "cell_type": "code",
      "metadata": {
        "colab": {
          "base_uri": "https://localhost:8080/"
        },
        "id": "WPAlxhKlHRo3",
        "outputId": "427e8bd9-d96b-45d0-fe6f-b6db433cbbf2"
      },
      "source": [
        "join = (\"youre\", \"handsome\",\"laoshi\")\n",
        "x = \"-\".join(join)\n",
        "print (x)"
      ],
      "execution_count": 17,
      "outputs": [
        {
          "output_type": "stream",
          "name": "stdout",
          "text": [
            "youre-handsome-laoshi\n"
          ]
        }
      ]
    },
    {
      "cell_type": "markdown",
      "metadata": {
        "id": "Dgq8_NIiHuqJ"
      },
      "source": [
        "# **Just Method**"
      ]
    },
    {
      "cell_type": "code",
      "metadata": {
        "colab": {
          "base_uri": "https://localhost:8080/"
        },
        "id": "cYT1I2R6HxWl",
        "outputId": "b2b2352b-11af-4f89-c71e-d3d3f0411fe8"
      },
      "source": [
        "lol = \"killjoy\"\n",
        "\n",
        "x = lol.ljust(10)\n",
        "\n",
        "print(x, \"is good.\")"
      ],
      "execution_count": 19,
      "outputs": [
        {
          "output_type": "stream",
          "name": "stdout",
          "text": [
            "killjoy    is good.\n"
          ]
        }
      ]
    },
    {
      "cell_type": "markdown",
      "metadata": {
        "id": "fYQBMAX9H_OO"
      },
      "source": [
        "# **lStrip**"
      ]
    },
    {
      "cell_type": "code",
      "metadata": {
        "colab": {
          "base_uri": "https://localhost:8080/"
        },
        "id": "BPPE13QEID0Z",
        "outputId": "c2e4e276-96e0-4c01-aed2-29c2ad3cfe04"
      },
      "source": [
        "txt = \"           good          \"\n",
        "\n",
        "x = txt.lstrip()\n",
        "\n",
        "print(\"what a\", x, \"job\")"
      ],
      "execution_count": 25,
      "outputs": [
        {
          "output_type": "stream",
          "name": "stdout",
          "text": [
            "what a good           job\n"
          ]
        }
      ]
    },
    {
      "cell_type": "markdown",
      "metadata": {
        "id": "Jel-9z0GIw51"
      },
      "source": [
        "# **rStrip**"
      ]
    },
    {
      "cell_type": "code",
      "metadata": {
        "colab": {
          "base_uri": "https://localhost:8080/"
        },
        "id": "-2BFcRjII0QV",
        "outputId": "1dccb987-6d4c-49a8-fc2e-5a888847e580"
      },
      "source": [
        "txt = \"           good          \"\n",
        "\n",
        "x = txt.rstrip()\n",
        "\n",
        "print(\"what a\", x, \"job\")"
      ],
      "execution_count": 26,
      "outputs": [
        {
          "output_type": "stream",
          "name": "stdout",
          "text": [
            "what a            good job\n"
          ]
        }
      ]
    },
    {
      "cell_type": "markdown",
      "metadata": {
        "id": "jzfW2vjyKwKX"
      },
      "source": [
        "# **List**"
      ]
    },
    {
      "cell_type": "code",
      "metadata": {
        "colab": {
          "base_uri": "https://localhost:8080/"
        },
        "id": "jGz7m29nKx-e",
        "outputId": "113d24a6-439c-4e7b-a41c-c8a7f544daf4"
      },
      "source": [
        "list69 = [2,4,6,8,10,15]\n",
        "list69[1]"
      ],
      "execution_count": 42,
      "outputs": [
        {
          "output_type": "execute_result",
          "data": {
            "text/plain": [
              "4"
            ]
          },
          "metadata": {},
          "execution_count": 42
        }
      ]
    },
    {
      "cell_type": "code",
      "metadata": {
        "colab": {
          "base_uri": "https://localhost:8080/"
        },
        "id": "XEud0pRbLxAH",
        "outputId": "370f2fec-b8f9-4903-a5da-ea9c9a0992a0"
      },
      "source": [
        "list69 = [2,4,6,8,10,15]\n",
        "list69[0:]\n"
      ],
      "execution_count": 41,
      "outputs": [
        {
          "output_type": "execute_result",
          "data": {
            "text/plain": [
              "[2, 4, 6, 8, 10, 15]"
            ]
          },
          "metadata": {},
          "execution_count": 41
        }
      ]
    },
    {
      "cell_type": "code",
      "metadata": {
        "colab": {
          "base_uri": "https://localhost:8080/"
        },
        "id": "q0pgF9HWNEDa",
        "outputId": "73c6a568-605f-4537-994a-282ad747f6c7"
      },
      "source": [
        "len(list69)"
      ],
      "execution_count": 37,
      "outputs": [
        {
          "output_type": "execute_result",
          "data": {
            "text/plain": [
              "6"
            ]
          },
          "metadata": {},
          "execution_count": 37
        }
      ]
    },
    {
      "cell_type": "code",
      "metadata": {
        "colab": {
          "base_uri": "https://localhost:8080/"
        },
        "id": "w_Ott8Y7NOlM",
        "outputId": "d4f7b28c-2e43-40c1-af04-a661443d5399"
      },
      "source": [
        "max(list69)"
      ],
      "execution_count": 39,
      "outputs": [
        {
          "output_type": "execute_result",
          "data": {
            "text/plain": [
              "15"
            ]
          },
          "metadata": {},
          "execution_count": 39
        }
      ]
    },
    {
      "cell_type": "code",
      "metadata": {
        "colab": {
          "base_uri": "https://localhost:8080/"
        },
        "id": "Eeynl1d5NQAp",
        "outputId": "c68512b7-5f27-4112-ee15-4fd2f7e42161"
      },
      "source": [
        "min(list69)"
      ],
      "execution_count": 40,
      "outputs": [
        {
          "output_type": "execute_result",
          "data": {
            "text/plain": [
              "2"
            ]
          },
          "metadata": {},
          "execution_count": 40
        }
      ]
    },
    {
      "cell_type": "markdown",
      "metadata": {
        "id": "Ju-ZAhHnN1GM"
      },
      "source": [
        "# **Dict**"
      ]
    },
    {
      "cell_type": "code",
      "metadata": {
        "colab": {
          "base_uri": "https://localhost:8080/"
        },
        "id": "HmC0dJlUN2w6",
        "outputId": "b3835bc7-a57c-4ae2-aa7f-7aad5a24efa7"
      },
      "source": [
        "thisdict =\t{\n",
        "  \"brand\": \"Ford\",\n",
        "  \"model\": \"Mustang\",\n",
        "  \"year\": 1964\n",
        "}\n",
        "print(thisdict)"
      ],
      "execution_count": 43,
      "outputs": [
        {
          "output_type": "stream",
          "name": "stdout",
          "text": [
            "{'brand': 'Ford', 'model': 'Mustang', 'year': 1964}\n"
          ]
        }
      ]
    },
    {
      "cell_type": "code",
      "metadata": {
        "colab": {
          "base_uri": "https://localhost:8080/"
        },
        "id": "PS0s0TP2N63A",
        "outputId": "43138c9d-47ac-40e7-f81b-8503e6727b57"
      },
      "source": [
        "print(\"thisdict['brand']: \", thisdict['brand'])"
      ],
      "execution_count": 44,
      "outputs": [
        {
          "output_type": "stream",
          "name": "stdout",
          "text": [
            "thisdict['brand']:  Ford\n"
          ]
        }
      ]
    }
  ]
}