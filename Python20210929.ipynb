{
  "nbformat": 4,
  "nbformat_minor": 0,
  "metadata": {
    "colab": {
      "name": "Python20210929.ipynb",
      "provenance": [],
      "collapsed_sections": [],
      "toc_visible": true,
      "authorship_tag": "ABX9TyMHwT0EpUY844bCoPnK2uq+",
      "include_colab_link": true
    },
    "kernelspec": {
      "name": "python3",
      "display_name": "Python 3"
    },
    "language_info": {
      "name": "python"
    }
  },
  "cells": [
    {
      "cell_type": "markdown",
      "metadata": {
        "id": "view-in-github",
        "colab_type": "text"
      },
      "source": [
        "<a href=\"https://colab.research.google.com/github/jhozzed/4100E226-Qiao-Si/blob/Introduction-to-Information-Technology/Python20210929.ipynb\" target=\"_parent\"><img src=\"https://colab.research.google.com/assets/colab-badge.svg\" alt=\"Open In Colab\"/></a>"
      ]
    },
    {
      "cell_type": "code",
      "metadata": {
        "colab": {
          "base_uri": "https://localhost:8080/"
        },
        "id": "uf4wjDBRTA63",
        "outputId": "26e06044-ff63-4a85-f3fa-9789a3e9e575"
      },
      "source": [
        "print (\"Hello my friends!\")"
      ],
      "execution_count": null,
      "outputs": [
        {
          "output_type": "stream",
          "name": "stdout",
          "text": [
            "Hello my friends!\n"
          ]
        }
      ]
    },
    {
      "cell_type": "code",
      "metadata": {
        "colab": {
          "base_uri": "https://localhost:8080/"
        },
        "id": "4NqK-m1-TNiG",
        "outputId": "30bc021b-2833-4f81-de27-c0bd5b8bf01c"
      },
      "source": [
        "x = input (\"Show me your money\")\n",
        "print (\"Thank you for your money\" + x)"
      ],
      "execution_count": null,
      "outputs": [
        {
          "output_type": "stream",
          "name": "stdout",
          "text": [
            "Show me your money100\n",
            "Thank you for your money100\n"
          ]
        }
      ]
    },
    {
      "cell_type": "code",
      "metadata": {
        "colab": {
          "base_uri": "https://localhost:8080/"
        },
        "id": "2log5sOiTzoZ",
        "outputId": "8eeac2e3-e343-46fd-bfce-cc2a0b9e80bb"
      },
      "source": [
        "x = int (input('Show me your money!'))\n",
        "y = x + 12345\n",
        "y\n",
        "\n"
      ],
      "execution_count": null,
      "outputs": [
        {
          "name": "stdout",
          "output_type": "stream",
          "text": [
            "Show me your money!123\n"
          ]
        },
        {
          "output_type": "execute_result",
          "data": {
            "text/plain": [
              "12468"
            ]
          },
          "metadata": {},
          "execution_count": 18
        }
      ]
    },
    {
      "cell_type": "code",
      "metadata": {
        "colab": {
          "base_uri": "https://localhost:8080/"
        },
        "id": "Pv6KBPN0WG1A",
        "outputId": "bcbb892b-b81d-4171-95b4-d2db8269e26f"
      },
      "source": [
        "a,b = eval(input(\"Please input two digits:\"))"
      ],
      "execution_count": null,
      "outputs": [
        {
          "name": "stdout",
          "output_type": "stream",
          "text": [
            "Please input two digits:69,72\n"
          ]
        }
      ]
    }
  ]
}